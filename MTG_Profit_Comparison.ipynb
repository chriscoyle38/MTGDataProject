{
 "cells": [
  {
   "cell_type": "code",
   "execution_count": 1,
   "metadata": {},
   "outputs": [],
   "source": [
    "import requests\n",
    "import json\n",
    "import pyspark as ps\n",
    "import pandas as pd\n",
    "import numpy as np\n",
    "import matplotlib.pyplot as plt\n",
    "from datetime import datetime\n",
    "import scipy.stats as stats\n",
    "\n",
    "pd.options.display.max_columns = None\n",
    "pd.options.display.max_rows = None\n",
    "\n",
    "df=pd.read_csv('FINAL.csv')\n",
    "df=df.drop(['Unnamed: 0'],axis=1)"
   ]
  },
  {
   "cell_type": "code",
   "execution_count": 2,
   "metadata": {},
   "outputs": [],
   "source": [
    "planeswalker_df=df[df.types=='Planeswalker']\n",
    "planeswalker_df=planeswalker_df.sort_values('name')\n",
    "planes_foil=planeswalker_df[planeswalker_df.hasFoil==1]\n",
    "\n",
    "legendary_df=df[(df.supertypes=='Legendary')&(df.types=='Creature')]\n",
    "legendary_df=legendary_df[legendary_df.hasFoil==1]\n",
    "legendary_df=legendary_df.sort_values('name')\n",
    "\n",
    "legendary_df.reset_index(inplace=True)\n",
    "planes_foil.reset_index(inplace=True)\n",
    "\n",
    "other_df=df.query('types!=\"Creature\" and supertypes!=\"Legendary\"')\n",
    "other_df=other_df.query('hasFoil==1')\n",
    "other_df.query('supertypes!=\"Planeswalker\"',inplace=True)\n",
    "\n",
    "other_foil=other_df[['name','setCode','rarity','types','TCGPlayer_Foil_Price','TCGPlayer_Foil_Change','TCGPlayer_Foil_BLPrice','TCGPlayer_Foil_Profit','edhrecRank']]\n",
    "other_normal=other_df[['name','setCode','rarity','types','TCGPlayer_Norm_Price','TCGPlayer_Norm_Change','TCGPlayer_Norm_BLPrice','TCGPlayer_Norm_Profit','edhrecRank']]\n",
    "\n",
    "df_new=pd.concat([legendary_df,planes_foil])\n",
    "foils=df_new[['name','setCode','rarity','types','TCGPlayer_Foil_Price','TCGPlayer_Foil_Change','TCGPlayer_Foil_BLPrice','TCGPlayer_Foil_Profit','edhrecRank']]\n",
    "normal=df_new[['name','setCode','rarity','types','TCGPlayer_Norm_Price','TCGPlayer_Norm_Change','TCGPlayer_Norm_BLPrice','TCGPlayer_Norm_Profit','edhrecRank']]"
   ]
  },
  {
   "cell_type": "code",
   "execution_count": 14,
   "metadata": {},
   "outputs": [
    {
     "name": "stderr",
     "output_type": "stream",
     "text": [
      "/home/chris/anaconda3/lib/python3.7/site-packages/ipykernel_launcher.py:1: SettingWithCopyWarning: \n",
      "A value is trying to be set on a copy of a slice from a DataFrame\n",
      "\n",
      "See the caveats in the documentation: https://pandas.pydata.org/pandas-docs/stable/user_guide/indexing.html#returning-a-view-versus-a-copy\n",
      "  \"\"\"Entry point for launching an IPython kernel.\n"
     ]
    }
   ],
   "source": [
    "other_foil.dropna(inplace=True)\n",
    "other_normal.dropna(inplace=True)\n",
    "normal.dropna(inplace=True)\n",
    "foils.dropna(inplace=True)"
   ]
  },
  {
   "cell_type": "code",
   "execution_count": 25,
   "metadata": {},
   "outputs": [
    {
     "data": {
      "text/plain": [
       "Ttest_indResult(statistic=-8.792216310822186, pvalue=1.648166059851758e-18)"
      ]
     },
     "execution_count": 25,
     "metadata": {},
     "output_type": "execute_result"
    }
   ],
   "source": [
    "# calculating the standard deviation and t-test of the samples\n",
    "ofmean=np.mean(other_foil.TCGPlayer_Foil_Profit)\n",
    "cfmean=np.mean(foils.TCGPlayer_Foil_Profit)\n",
    "\n",
    "foiln=other_foil.TCGPlayer_Foil_Profit\n",
    "foilc=foils.TCGPlayer_Foil_Profit\n",
    "\n",
    "stdn=np.std(foiln)\n",
    "stdc=np.std(foilc)\n",
    "\n",
    "stats.ttest_ind_from_stats(mean1=ofmean,std1=stdn,nobs1=len(other_foil),\n",
    "                          mean2=cfmean,std2=stdc,nobs2=len(foils))"
   ]
  },
  {
   "cell_type": "code",
   "execution_count": 26,
   "metadata": {},
   "outputs": [
    {
     "data": {
      "text/plain": [
       "Ttest_indResult(statistic=-16.088787185488087, pvalue=1.3572386834784576e-57)"
      ]
     },
     "execution_count": 26,
     "metadata": {},
     "output_type": "execute_result"
    }
   ],
   "source": [
    "onmean=np.mean(other_normal.TCGPlayer_Norm_Profit)\n",
    "cnmean=np.mean(normal.TCGPlayer_Norm_Profit)\n",
    "\n",
    "normn=other_normal.TCGPlayer_Norm_Profit\n",
    "normc=normal.TCGPlayer_Norm_Profit\n",
    "\n",
    "stdn=np.std(normn)\n",
    "stdc=np.std(normc)\n",
    "\n",
    "stats.ttest_ind_from_stats(mean1=onmean,std1=stdn,nobs1=len(other_normal),\n",
    "                          mean2=cnmean,std2=stdc,nobs2=len(normal))"
   ]
  },
  {
   "cell_type": "code",
   "execution_count": 27,
   "metadata": {},
   "outputs": [
    {
     "data": {
      "text/plain": [
       "Ttest_indResult(statistic=3.6403556285371783, pvalue=0.00027331322437496437)"
      ]
     },
     "execution_count": 27,
     "metadata": {},
     "output_type": "execute_result"
    }
   ],
   "source": [
    "ofmean=np.mean(other_foil.TCGPlayer_Foil_Change)\n",
    "cfmean=np.mean(foils.TCGPlayer_Foil_Change)\n",
    "\n",
    "foiln=other_foil.TCGPlayer_Foil_Change\n",
    "foilc=foils.TCGPlayer_Foil_Change\n",
    "\n",
    "stdn=np.std(foiln)\n",
    "stdc=np.std(foilc)\n",
    "\n",
    "stats.ttest_ind_from_stats(mean1=ofmean,std1=stdn,nobs1=len(other_foil),\n",
    "                          mean2=cfmean,std2=stdc,nobs2=len(foils))"
   ]
  },
  {
   "cell_type": "code",
   "execution_count": 28,
   "metadata": {},
   "outputs": [
    {
     "data": {
      "text/plain": [
       "Ttest_indResult(statistic=-2.204281063717118, pvalue=0.027524930076921545)"
      ]
     },
     "execution_count": 28,
     "metadata": {},
     "output_type": "execute_result"
    }
   ],
   "source": [
    "onmean=np.mean(other_normal.TCGPlayer_Norm_Change)\n",
    "cnmean=np.mean(normal.TCGPlayer_Norm_Change)\n",
    "\n",
    "normn=other_normal.TCGPlayer_Norm_Change\n",
    "normc=normal.TCGPlayer_Norm_Change\n",
    "\n",
    "stdn=np.std(normn)\n",
    "stdc=np.std(normc)\n",
    "\n",
    "stats.ttest_ind_from_stats(mean1=cnmean,std1=stdc,nobs1=len(normal),\n",
    "                          mean2=onmean,std2=stdn,nobs2=len(other_normal))"
   ]
  },
  {
   "cell_type": "code",
   "execution_count": null,
   "metadata": {},
   "outputs": [],
   "source": [
    "pd.plotting.scatter_matrix(normal, figsize=(10, 10), s=100);"
   ]
  },
  {
   "cell_type": "code",
   "execution_count": null,
   "metadata": {},
   "outputs": [],
   "source": [
    "pd.plotting.scatter_matrix(foils, figsize=(10, 10), s=100);"
   ]
  },
  {
   "cell_type": "code",
   "execution_count": null,
   "metadata": {},
   "outputs": [],
   "source": [
    "foils.info()"
   ]
  },
  {
   "cell_type": "code",
   "execution_count": null,
   "metadata": {},
   "outputs": [],
   "source": [
    "normal.info()"
   ]
  },
  {
   "cell_type": "code",
   "execution_count": null,
   "metadata": {},
   "outputs": [],
   "source": [
    "foils.plot.scatter(x='TCGPlayer_Foil_Change',\n",
    "\n",
    "                      y='edhrecRank',\n",
    "\n",
    "                      c='DarkBlue')"
   ]
  },
  {
   "cell_type": "code",
   "execution_count": null,
   "metadata": {},
   "outputs": [],
   "source": [
    "normal.plot.scatter(x='TCGPlayer_Norm_Change',\n",
    "\n",
    "                      y='edhrecRank',\n",
    "\n",
    "                      c='DarkBlue')"
   ]
  },
  {
   "cell_type": "code",
   "execution_count": null,
   "metadata": {},
   "outputs": [],
   "source": [
    "# price change vs price\n",
    "# looks like the higher the price of the card the less volatility in the price\n",
    "foils.plot.scatter(x='TCGPlayer_Foil_Price',\n",
    "\n",
    "                      y='TCGPlayer_Foil_Change',\n",
    "\n",
    "                      c='DarkBlue')"
   ]
  },
  {
   "cell_type": "code",
   "execution_count": null,
   "metadata": {},
   "outputs": [],
   "source": [
    "# price change vs \n",
    "normal.plot.scatter(x='TCGPlayer_Norm_Price',\n",
    "\n",
    "                      y='TCGPlayer_Norm_Change',\n",
    "\n",
    "                      c='DarkBlue')"
   ]
  },
  {
   "cell_type": "code",
   "execution_count": null,
   "metadata": {},
   "outputs": [],
   "source": [
    "#Price of normal cards in the sample vs the profit that could be made\n",
    "# for the most part it is what I expected to see. The higher the card price the greater potential for profit\n",
    "\n",
    "normal.plot.scatter(x='TCGPlayer_Norm_Price',\n",
    "\n",
    "                      y='TCGPlayer_Norm_Profit',\n",
    "\n",
    "                      c='DarkBlue')"
   ]
  },
  {
   "cell_type": "code",
   "execution_count": null,
   "metadata": {},
   "outputs": [],
   "source": [
    "# Price of a normal card in the sample vs the profit that could be made\n",
    "# for the most part it is what I expected to see. The higher the card price the greater potential for profit.\n",
    "\n",
    "foils.plot.scatter(x='TCGPlayer_Foil_Price',\n",
    "\n",
    "                      y='TCGPlayer_Foil_Profit',\n",
    "\n",
    "                      c='DarkBlue')"
   ]
  },
  {
   "cell_type": "markdown",
   "metadata": {},
   "source": [
    "Interesting that there are negative profit numbers for normal cards and foil cards in the data sample. This probably indicates a supply problem. Some stores are selling cards for less than other stores are buying cards for. Maybe they are buying cards to hold, predicting the price of this card going up in the future?"
   ]
  },
  {
   "cell_type": "code",
   "execution_count": null,
   "metadata": {},
   "outputs": [],
   "source": [
    "foils.plot.scatter(x='TCGPlayer_Foil_Profit',\n",
    "\n",
    "                      y='TCGPlayer_Foil_Change',\n",
    "\n",
    "                      c='DarkBlue')"
   ]
  },
  {
   "cell_type": "code",
   "execution_count": null,
   "metadata": {},
   "outputs": [],
   "source": [
    "normal.plot.scatter(x='TCGPlayer_Norm_Profit',\n",
    "\n",
    "                      y='TCGPlayer_Norm_Change')"
   ]
  },
  {
   "cell_type": "code",
   "execution_count": null,
   "metadata": {},
   "outputs": [],
   "source": [
    "def emperical_distribution(x, data):\n",
    "    weight = 1.0 / len(data)\n",
    "    count = np.zeros(shape=len(x))\n",
    "    for datum in data:\n",
    "        count = count + np.array(x >= datum)\n",
    "    return weight * count\n",
    "\n",
    "def one_dim_scatterplot(data, ax, jitter=0.2, **options):\n",
    "    ## why jitter? especially for bootstraping later\n",
    "    if jitter:\n",
    "        jitter = np.random.uniform(-jitter, jitter, size=data.shape)\n",
    "    else:\n",
    "        jitter = np.repeat(0.0, len(data))\n",
    "    ax.scatter(data, jitter, **options)\n",
    "    mean = np.mean(data)\n",
    "    ax.scatter([mean], 0, c=\"black\", s=80)\n",
    "    ax.yaxis.set_ticklabels([])\n",
    "    ax.set_ylim([-1, 1])\n",
    "    ax.tick_params(axis='both', which='major', labelsize=15)"
   ]
  },
  {
   "cell_type": "code",
   "execution_count": null,
   "metadata": {},
   "outputs": [],
   "source": [
    "data=foils.TCGPlayer_Foil_Change\n",
    "fig, ax = plt.subplots(2, 1, figsize=(12, 8), sharex=True)\n",
    "\n",
    "x = np.linspace(-3, 3, num=250)\n",
    "ax[0].plot(x, emperical_distribution(x, data), linewidth=2)\n",
    "ax[0].set_ylim(-0.05, 1.05)\n",
    "ax[0].set_xlim(-2, 2)\n",
    "# ax[0].tick_params(axis='both', which='major', labelsize=15)\n",
    "one_dim_scatterplot(data, ax[1], s=25)\n",
    "_ = ax[0].set_title(\"The Empirical Distribution Function for Foil Price Change\")\n",
    "print(f'The mean of the data is:{np.mean(data)}')"
   ]
  },
  {
   "cell_type": "code",
   "execution_count": null,
   "metadata": {},
   "outputs": [],
   "source": [
    "data=normal.TCGPlayer_Norm_Change\n",
    "fig, ax = plt.subplots(2, 1, figsize=(12, 8), sharex=True)\n",
    "\n",
    "x = np.linspace(-3, 3, num=250)\n",
    "ax[0].plot(x, emperical_distribution(x, data), linewidth=2)\n",
    "ax[0].set_ylim(-0.05, 1.05)\n",
    "ax[0].set_xlim(-2, 2)\n",
    "# ax[0].tick_params(axis='both', which='major', labelsize=15)\n",
    "one_dim_scatterplot(data, ax[1], s=25)\n",
    "_ = ax[0].set_title(\"The Empirical Distribution Function for Normal Card Price Change\")\n",
    "print(f'The mean of the data is:{np.mean(data)}')"
   ]
  }
 ],
 "metadata": {
  "kernelspec": {
   "display_name": "Python 3",
   "language": "python",
   "name": "python3"
  },
  "language_info": {
   "codemirror_mode": {
    "name": "ipython",
    "version": 3
   },
   "file_extension": ".py",
   "mimetype": "text/x-python",
   "name": "python",
   "nbconvert_exporter": "python",
   "pygments_lexer": "ipython3",
   "version": "3.7.7"
  }
 },
 "nbformat": 4,
 "nbformat_minor": 4
}
